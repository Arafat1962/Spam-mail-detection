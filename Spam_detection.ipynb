{
  "nbformat": 4,
  "nbformat_minor": 0,
  "metadata": {
    "colab": {
      "provenance": [],
      "include_colab_link": true
    },
    "kernelspec": {
      "name": "python3",
      "display_name": "Python 3"
    },
    "language_info": {
      "name": "python"
    }
  },
  "cells": [
    {
      "cell_type": "markdown",
      "metadata": {
        "id": "view-in-github",
        "colab_type": "text"
      },
      "source": [
        "<a href=\"https://colab.research.google.com/github/Arafat1962/Spam-mail-detection/blob/main/Spam_detection.ipynb\" target=\"_parent\"><img src=\"https://colab.research.google.com/assets/colab-badge.svg\" alt=\"Open In Colab\"/></a>"
      ]
    },
    {
      "cell_type": "code",
      "execution_count": 1,
      "metadata": {
        "id": "MTlkQmlLbXnh"
      },
      "outputs": [],
      "source": [
        "import pandas as pd\n",
        "import numpy as np\n",
        "import matplotlib.pyplot as plt\n",
        "from sklearn.feature_extraction.text import TfidfVectorizer\n",
        "from sklearn.metrics import classification_report, confusion_matrix, accuracy_score\n",
        "from sklearn.metrics import roc_auc_score\n",
        "from sklearn.metrics import roc_curve"
      ]
    },
    {
      "cell_type": "code",
      "source": [
        "from google.colab import drive\n",
        "drive.mount('/content/drive')"
      ],
      "metadata": {
        "colab": {
          "base_uri": "https://localhost:8080/"
        },
        "id": "gjRfN9m5Ephc",
        "outputId": "226397a6-ac7c-42b6-ed62-018f032b6f1b"
      },
      "execution_count": 2,
      "outputs": [
        {
          "output_type": "stream",
          "name": "stdout",
          "text": [
            "Mounted at /content/drive\n"
          ]
        }
      ]
    },
    {
      "cell_type": "code",
      "source": [
        "raw_mails = pd.read_csv('/content/mail_data.csv')\n",
        "print(raw_mails)"
      ],
      "metadata": {
        "id": "mxI0sgj_gV63",
        "colab": {
          "base_uri": "https://localhost:8080/"
        },
        "outputId": "334ec204-2578-48e8-ac23-506d3e211caa"
      },
      "execution_count": 4,
      "outputs": [
        {
          "output_type": "stream",
          "name": "stdout",
          "text": [
            "     Category                                            Message\n",
            "0         ham  Go until jurong point, crazy.. Available only ...\n",
            "1         ham                      Ok lar... Joking wif u oni...\n",
            "2        spam  Free entry in 2 a wkly comp to win FA Cup fina...\n",
            "3         ham  U dun say so early hor... U c already then say...\n",
            "4         ham  Nah I don't think he goes to usf, he lives aro...\n",
            "...       ...                                                ...\n",
            "5567     spam  This is the 2nd time we have tried 2 contact u...\n",
            "5568      ham               Will ü b going to esplanade fr home?\n",
            "5569      ham  Pity, * was in mood for that. So...any other s...\n",
            "5570      ham  The guy did some bitching but I acted like i'd...\n",
            "5571      ham                         Rofl. Its true to its name\n",
            "\n",
            "[5572 rows x 2 columns]\n"
          ]
        }
      ]
    },
    {
      "cell_type": "code",
      "source": [
        "print(raw_mails.shape)\n",
        "print(raw_mails.columns)"
      ],
      "metadata": {
        "colab": {
          "base_uri": "https://localhost:8080/"
        },
        "id": "4xt3rqBhhS5J",
        "outputId": "949b89e0-45d7-4e49-e748-405bdf1b3ea9"
      },
      "execution_count": 5,
      "outputs": [
        {
          "output_type": "stream",
          "name": "stdout",
          "text": [
            "(5572, 2)\n",
            "Index(['Category', 'Message'], dtype='object')\n"
          ]
        }
      ]
    },
    {
      "cell_type": "code",
      "source": [
        "raw_mails.drop_duplicates(inplace = True)"
      ],
      "metadata": {
        "id": "Xabm_HDlhwbW"
      },
      "execution_count": 6,
      "outputs": []
    },
    {
      "cell_type": "code",
      "source": [
        "raw_mails.shape"
      ],
      "metadata": {
        "colab": {
          "base_uri": "https://localhost:8080/"
        },
        "id": "EO7Idc92h9St",
        "outputId": "1cd4c4ec-a035-4dee-bcd5-8eca8192766b"
      },
      "execution_count": 7,
      "outputs": [
        {
          "output_type": "execute_result",
          "data": {
            "text/plain": [
              "(5157, 2)"
            ]
          },
          "metadata": {},
          "execution_count": 7
        }
      ]
    },
    {
      "cell_type": "code",
      "source": [
        "mails = raw_mails.where(pd.notnull(raw_mails), '')\n",
        "print(mails.isnull().sum())"
      ],
      "metadata": {
        "colab": {
          "base_uri": "https://localhost:8080/"
        },
        "id": "59KBDHOsiAEV",
        "outputId": "2a12fa92-9723-47c2-b261-330ac903e263"
      },
      "execution_count": 8,
      "outputs": [
        {
          "output_type": "stream",
          "name": "stdout",
          "text": [
            "Category    0\n",
            "Message     0\n",
            "dtype: int64\n"
          ]
        }
      ]
    },
    {
      "cell_type": "code",
      "source": [
        "mails.loc[mails['Category'] == 'spam', 'Category'] = 0\n",
        "mails.loc[mails['Category'] == 'ham', 'Category'] = 1"
      ],
      "metadata": {
        "id": "TfnzLQNeiSgM"
      },
      "execution_count": 9,
      "outputs": []
    },
    {
      "cell_type": "code",
      "source": [
        "from sklearn.model_selection import train_test_split\n",
        "x_train, x_test, y_train, y_test = train_test_split(mails['Message'], mails['Category'], test_size = 0.2, random_state = 3)\n",
        "#print(msg)\n",
        "print(x_train.shape)\n",
        "print(x_test.shape)"
      ],
      "metadata": {
        "id": "AjQhJxy9mapR",
        "colab": {
          "base_uri": "https://localhost:8080/"
        },
        "outputId": "f7175847-d8c2-482f-bf7b-1a63f7315ece"
      },
      "execution_count": 10,
      "outputs": [
        {
          "output_type": "stream",
          "name": "stdout",
          "text": [
            "(4125,)\n",
            "(1032,)\n"
          ]
        }
      ]
    },
    {
      "cell_type": "code",
      "source": [
        "#print(mails['Category'])\n",
        "feature_extraction = TfidfVectorizer(min_df = 1, stop_words = 'english', lowercase = True)\n",
        "\n",
        "x_train_features = feature_extraction.fit_transform(x_train)\n",
        "x_test_features = feature_extraction.transform(x_test)\n",
        "#print(x_train)\n",
        "#print(x_train_features)\n",
        "#print(x_test_features)\n",
        "\n",
        "y_train = y_train.astype('int')\n",
        "y_test = y_test.astype('int')"
      ],
      "metadata": {
        "id": "fgmAy8PHjhl1"
      },
      "execution_count": 12,
      "outputs": []
    },
    {
      "cell_type": "markdown",
      "source": [
        "Naive Bayes MultiNomial"
      ],
      "metadata": {
        "id": "9zGv9O-mQdvj"
      }
    },
    {
      "cell_type": "code",
      "source": [
        "from sklearn.naive_bayes import MultinomialNB\n",
        "classifier = MultinomialNB().fit(x_train_features, y_train)"
      ],
      "metadata": {
        "id": "OTFr7RAjqCps"
      },
      "execution_count": 13,
      "outputs": []
    },
    {
      "cell_type": "code",
      "source": [
        "print(classifier.predict(x_train_features))\n",
        "print(y_train.values)\n"
      ],
      "metadata": {
        "id": "6tU6FET577fk",
        "colab": {
          "base_uri": "https://localhost:8080/"
        },
        "outputId": "bf8d5e78-3a44-4dda-fb7d-1d345b60210b"
      },
      "execution_count": 14,
      "outputs": [
        {
          "output_type": "stream",
          "name": "stdout",
          "text": [
            "[1 1 0 ... 1 1 1]\n",
            "[1 1 0 ... 1 1 1]\n"
          ]
        }
      ]
    },
    {
      "cell_type": "code",
      "source": [
        "pred = classifier.predict(x_train_features)\n",
        "#print(classification_report(y_train, pred))\n",
        "print(classification_report(pred, y_train))\n",
        "print('Confusion Matrix : \\n', confusion_matrix(y_train, pred))\n",
        "print('\\n Accuracy on training data using MultiNomial Model:', accuracy_score(y_train, pred))"
      ],
      "metadata": {
        "id": "zhIdK3rG8hCt",
        "colab": {
          "base_uri": "https://localhost:8080/"
        },
        "outputId": "3650c05d-b750-4e90-c3dd-06f5110d3a2d"
      },
      "execution_count": 15,
      "outputs": [
        {
          "output_type": "stream",
          "name": "stdout",
          "text": [
            "              precision    recall  f1-score   support\n",
            "\n",
            "           0       0.84      1.00      0.91       420\n",
            "           1       1.00      0.98      0.99      3705\n",
            "\n",
            "    accuracy                           0.98      4125\n",
            "   macro avg       0.92      0.99      0.95      4125\n",
            "weighted avg       0.98      0.98      0.98      4125\n",
            "\n",
            "Confusion Matrix : \n",
            " [[ 420   82]\n",
            " [   0 3623]]\n",
            "\n",
            " Accuracy on training data using MultiNomial Model: 0.9801212121212122\n"
          ]
        }
      ]
    },
    {
      "cell_type": "code",
      "source": [
        "print(classifier.predict(x_test_features))\n",
        "\n",
        "print(y_test.values)"
      ],
      "metadata": {
        "id": "BrrIc_rz-YRV",
        "colab": {
          "base_uri": "https://localhost:8080/"
        },
        "outputId": "f4ea0d02-1a49-4a26-cedf-503b4e43ecf1"
      },
      "execution_count": 16,
      "outputs": [
        {
          "output_type": "stream",
          "name": "stdout",
          "text": [
            "[1 1 1 ... 1 1 1]\n",
            "[1 1 1 ... 1 1 1]\n"
          ]
        }
      ]
    },
    {
      "cell_type": "code",
      "source": [
        "predt = classifier.predict(x_test_features)\n",
        "#print(classification_report(y_test, pred))\n",
        "print(classification_report(predt, y_test))\n",
        "print('Confusion Matrix : \\n', confusion_matrix(y_test, predt))\n",
        "print('\\n Accuracy on test data using Multinomial Model :', accuracy_score(y_test, predt))"
      ],
      "metadata": {
        "id": "ZSw4FyyP-ifB",
        "colab": {
          "base_uri": "https://localhost:8080/"
        },
        "outputId": "f9b1d01d-a0a8-46c2-ae6e-b003acfae400"
      },
      "execution_count": 17,
      "outputs": [
        {
          "output_type": "stream",
          "name": "stdout",
          "text": [
            "              precision    recall  f1-score   support\n",
            "\n",
            "           0       0.71      1.00      0.83        98\n",
            "           1       1.00      0.96      0.98       934\n",
            "\n",
            "    accuracy                           0.96      1032\n",
            "   macro avg       0.85      0.98      0.90      1032\n",
            "weighted avg       0.97      0.96      0.96      1032\n",
            "\n",
            "Confusion Matrix : \n",
            " [[ 98  41]\n",
            " [  0 893]]\n",
            "\n",
            " Accuracy on test data using Multinomial Model : 0.9602713178294574\n"
          ]
        }
      ]
    },
    {
      "cell_type": "markdown",
      "source": [
        "Logistic Regression Model"
      ],
      "metadata": {
        "id": "Ovpv7p7nQiSD"
      }
    },
    {
      "cell_type": "code",
      "source": [
        "from sklearn.linear_model import LogisticRegression\n",
        "model = LogisticRegression()"
      ],
      "metadata": {
        "id": "jXvpVPn6RMFt"
      },
      "execution_count": 18,
      "outputs": []
    },
    {
      "cell_type": "code",
      "source": [
        "model.fit(x_train_features, y_train)"
      ],
      "metadata": {
        "id": "yGPusAgCRP9l",
        "colab": {
          "base_uri": "https://localhost:8080/",
          "height": 74
        },
        "outputId": "9a42e3b6-ffd3-4fda-877b-348faf9ae52e"
      },
      "execution_count": 19,
      "outputs": [
        {
          "output_type": "execute_result",
          "data": {
            "text/plain": [
              "LogisticRegression()"
            ],
            "text/html": [
              "<style>#sk-container-id-1 {color: black;background-color: white;}#sk-container-id-1 pre{padding: 0;}#sk-container-id-1 div.sk-toggleable {background-color: white;}#sk-container-id-1 label.sk-toggleable__label {cursor: pointer;display: block;width: 100%;margin-bottom: 0;padding: 0.3em;box-sizing: border-box;text-align: center;}#sk-container-id-1 label.sk-toggleable__label-arrow:before {content: \"▸\";float: left;margin-right: 0.25em;color: #696969;}#sk-container-id-1 label.sk-toggleable__label-arrow:hover:before {color: black;}#sk-container-id-1 div.sk-estimator:hover label.sk-toggleable__label-arrow:before {color: black;}#sk-container-id-1 div.sk-toggleable__content {max-height: 0;max-width: 0;overflow: hidden;text-align: left;background-color: #f0f8ff;}#sk-container-id-1 div.sk-toggleable__content pre {margin: 0.2em;color: black;border-radius: 0.25em;background-color: #f0f8ff;}#sk-container-id-1 input.sk-toggleable__control:checked~div.sk-toggleable__content {max-height: 200px;max-width: 100%;overflow: auto;}#sk-container-id-1 input.sk-toggleable__control:checked~label.sk-toggleable__label-arrow:before {content: \"▾\";}#sk-container-id-1 div.sk-estimator input.sk-toggleable__control:checked~label.sk-toggleable__label {background-color: #d4ebff;}#sk-container-id-1 div.sk-label input.sk-toggleable__control:checked~label.sk-toggleable__label {background-color: #d4ebff;}#sk-container-id-1 input.sk-hidden--visually {border: 0;clip: rect(1px 1px 1px 1px);clip: rect(1px, 1px, 1px, 1px);height: 1px;margin: -1px;overflow: hidden;padding: 0;position: absolute;width: 1px;}#sk-container-id-1 div.sk-estimator {font-family: monospace;background-color: #f0f8ff;border: 1px dotted black;border-radius: 0.25em;box-sizing: border-box;margin-bottom: 0.5em;}#sk-container-id-1 div.sk-estimator:hover {background-color: #d4ebff;}#sk-container-id-1 div.sk-parallel-item::after {content: \"\";width: 100%;border-bottom: 1px solid gray;flex-grow: 1;}#sk-container-id-1 div.sk-label:hover label.sk-toggleable__label {background-color: #d4ebff;}#sk-container-id-1 div.sk-serial::before {content: \"\";position: absolute;border-left: 1px solid gray;box-sizing: border-box;top: 0;bottom: 0;left: 50%;z-index: 0;}#sk-container-id-1 div.sk-serial {display: flex;flex-direction: column;align-items: center;background-color: white;padding-right: 0.2em;padding-left: 0.2em;position: relative;}#sk-container-id-1 div.sk-item {position: relative;z-index: 1;}#sk-container-id-1 div.sk-parallel {display: flex;align-items: stretch;justify-content: center;background-color: white;position: relative;}#sk-container-id-1 div.sk-item::before, #sk-container-id-1 div.sk-parallel-item::before {content: \"\";position: absolute;border-left: 1px solid gray;box-sizing: border-box;top: 0;bottom: 0;left: 50%;z-index: -1;}#sk-container-id-1 div.sk-parallel-item {display: flex;flex-direction: column;z-index: 1;position: relative;background-color: white;}#sk-container-id-1 div.sk-parallel-item:first-child::after {align-self: flex-end;width: 50%;}#sk-container-id-1 div.sk-parallel-item:last-child::after {align-self: flex-start;width: 50%;}#sk-container-id-1 div.sk-parallel-item:only-child::after {width: 0;}#sk-container-id-1 div.sk-dashed-wrapped {border: 1px dashed gray;margin: 0 0.4em 0.5em 0.4em;box-sizing: border-box;padding-bottom: 0.4em;background-color: white;}#sk-container-id-1 div.sk-label label {font-family: monospace;font-weight: bold;display: inline-block;line-height: 1.2em;}#sk-container-id-1 div.sk-label-container {text-align: center;}#sk-container-id-1 div.sk-container {/* jupyter's `normalize.less` sets `[hidden] { display: none; }` but bootstrap.min.css set `[hidden] { display: none !important; }` so we also need the `!important` here to be able to override the default hidden behavior on the sphinx rendered scikit-learn.org. See: https://github.com/scikit-learn/scikit-learn/issues/21755 */display: inline-block !important;position: relative;}#sk-container-id-1 div.sk-text-repr-fallback {display: none;}</style><div id=\"sk-container-id-1\" class=\"sk-top-container\"><div class=\"sk-text-repr-fallback\"><pre>LogisticRegression()</pre><b>In a Jupyter environment, please rerun this cell to show the HTML representation or trust the notebook. <br />On GitHub, the HTML representation is unable to render, please try loading this page with nbviewer.org.</b></div><div class=\"sk-container\" hidden><div class=\"sk-item\"><div class=\"sk-estimator sk-toggleable\"><input class=\"sk-toggleable__control sk-hidden--visually\" id=\"sk-estimator-id-1\" type=\"checkbox\" checked><label for=\"sk-estimator-id-1\" class=\"sk-toggleable__label sk-toggleable__label-arrow\">LogisticRegression</label><div class=\"sk-toggleable__content\"><pre>LogisticRegression()</pre></div></div></div></div></div>"
            ]
          },
          "metadata": {},
          "execution_count": 19
        }
      ]
    },
    {
      "cell_type": "code",
      "source": [
        "prediction_on_training =  model.predict(x_train_features)\n",
        "accuracy_on_training = accuracy_score(y_train, prediction_on_training)\n",
        "print(classification_report(prediction_on_training, y_train))\n",
        "print('Confusion Matrix on training data using Logistic Regression Model:\\n', confusion_matrix(y_train, prediction_on_training))\n",
        "print('Accuracy on training Data using Logisitic Regression Model : ',accuracy_on_training)"
      ],
      "metadata": {
        "id": "wRjt61MVRdhd",
        "colab": {
          "base_uri": "https://localhost:8080/"
        },
        "outputId": "07630a60-1964-4256-b7a3-d12ffdbd77f7"
      },
      "execution_count": 20,
      "outputs": [
        {
          "output_type": "stream",
          "name": "stdout",
          "text": [
            "              precision    recall  f1-score   support\n",
            "\n",
            "           0       0.70      0.99      0.82       353\n",
            "           1       1.00      0.96      0.98      3772\n",
            "\n",
            "    accuracy                           0.96      4125\n",
            "   macro avg       0.85      0.97      0.90      4125\n",
            "weighted avg       0.97      0.96      0.96      4125\n",
            "\n",
            "Confusion Matrix on training data using Logistic Regression Model:\n",
            " [[ 349  153]\n",
            " [   4 3619]]\n",
            "Accuracy on training Data using Logisitic Regression Model :  0.961939393939394\n"
          ]
        }
      ]
    },
    {
      "cell_type": "code",
      "source": [
        "prediction_on_test = model.predict(x_test_features)\n",
        "#print(prediction_on_test)\n",
        "#print(y_test)\n",
        "print(classification_report(prediction_on_test, y_test))\n",
        "accuracy_on_test = accuracy_score(prediction_on_test, y_test)\n",
        "print('Confusion Matrix on test data using Logistic Regression Model:\\n', confusion_matrix(y_test, prediction_on_test))\n",
        "print('Accuracy on test Data using Logisitic Regression Model : ', accuracy_on_test)"
      ],
      "metadata": {
        "id": "E0Vi-rh9R_pE",
        "colab": {
          "base_uri": "https://localhost:8080/"
        },
        "outputId": "9a28bbb6-687d-4b67-cffa-6be08c2254cd"
      },
      "execution_count": 21,
      "outputs": [
        {
          "output_type": "stream",
          "name": "stdout",
          "text": [
            "              precision    recall  f1-score   support\n",
            "\n",
            "           0       0.66      1.00      0.80        92\n",
            "           1       1.00      0.95      0.97       940\n",
            "\n",
            "    accuracy                           0.95      1032\n",
            "   macro avg       0.83      0.97      0.89      1032\n",
            "weighted avg       0.97      0.95      0.96      1032\n",
            "\n",
            "Confusion Matrix on test data using Logistic Regression Model:\n",
            " [[ 92  47]\n",
            " [  0 893]]\n",
            "Accuracy on test Data using Logisitic Regression Model :  0.9544573643410853\n"
          ]
        }
      ]
    },
    {
      "cell_type": "code",
      "source": [
        "from sklearn.ensemble import RandomForestClassifier\n",
        "from sklearn.ensemble import RandomForestRegressor\n",
        "from sklearn.multiclass import OneVsRestClassifier\n",
        "\n",
        "regressor = OneVsRestClassifier(RandomForestClassifier(max_features = 0.2))\n",
        "#RandomForestRegressor(n_estimators = 100, random_state = 3)\n",
        "\n",
        "Random_forest = regressor.fit(x_train_features, y_train)"
      ],
      "metadata": {
        "id": "uerQdEdHY03g"
      },
      "execution_count": 22,
      "outputs": []
    },
    {
      "cell_type": "code",
      "source": [
        "predict_on_training = Random_forest.predict(x_train_features)\n",
        "prediction_num = np.array(predict_on_training)\n",
        "prediction_num = prediction_num.astype(int)\n",
        "#print(prediction_num)\n",
        "#print(y_train.values)\n",
        "accu_on_train = accuracy_score(prediction_num, y_train)\n",
        "print(classification_report(prediction_num, y_train))\n",
        "print('Confusion Matrix : \\n', confusion_matrix(y_train, prediction_num))\n",
        "print('\\n Accuracy on training data using Random_forest Model:', accu_on_train)"
      ],
      "metadata": {
        "id": "NMTROKIBaX9v",
        "colab": {
          "base_uri": "https://localhost:8080/"
        },
        "outputId": "6e865151-ab41-4087-8c33-12c17f1adf39"
      },
      "execution_count": 23,
      "outputs": [
        {
          "output_type": "stream",
          "name": "stdout",
          "text": [
            "              precision    recall  f1-score   support\n",
            "\n",
            "           0       1.00      1.00      1.00       502\n",
            "           1       1.00      1.00      1.00      3623\n",
            "\n",
            "    accuracy                           1.00      4125\n",
            "   macro avg       1.00      1.00      1.00      4125\n",
            "weighted avg       1.00      1.00      1.00      4125\n",
            "\n",
            "Confusion Matrix : \n",
            " [[ 502    0]\n",
            " [   0 3623]]\n",
            "\n",
            " Accuracy on training data using Random_forest Model: 1.0\n"
          ]
        }
      ]
    },
    {
      "cell_type": "code",
      "source": [
        "predict_on_test = Random_forest.predict(x_test_features)\n",
        "predict_on_test = np.array(predict_on_test)\n",
        "predict_on_test = predict_on_test.astype(int)\n",
        "predict_on_test_prob = Random_forest.predict_proba(x_test_features)\n",
        "accu_on_test = accuracy_score(predict_on_test, y_test)\n",
        "print(classification_report(predict_on_test, y_test))\n",
        "print('Confusion Matrix : \\n', confusion_matrix(y_test, predict_on_test))\n",
        "print('\\n Accuracy on training data using Random_forest Model:', accu_on_test)"
      ],
      "metadata": {
        "id": "ScmYSklpaxZ7",
        "colab": {
          "base_uri": "https://localhost:8080/"
        },
        "outputId": "52625461-4934-410c-c1ac-40d940b68c9e"
      },
      "execution_count": 24,
      "outputs": [
        {
          "output_type": "stream",
          "name": "stdout",
          "text": [
            "              precision    recall  f1-score   support\n",
            "\n",
            "           0       0.82      0.97      0.89       118\n",
            "           1       1.00      0.97      0.98       914\n",
            "\n",
            "    accuracy                           0.97      1032\n",
            "   macro avg       0.91      0.97      0.94      1032\n",
            "weighted avg       0.98      0.97      0.97      1032\n",
            "\n",
            "Confusion Matrix : \n",
            " [[114  25]\n",
            " [  4 889]]\n",
            "\n",
            " Accuracy on training data using Random_forest Model: 0.9718992248062015\n"
          ]
        }
      ]
    },
    {
      "cell_type": "code",
      "source": [
        "log_roc_auc_naive = roc_auc_score(y_test, predt)\n",
        "fpr, tpr, threshold = roc_curve(y_test,classifier.predict_proba(x_test_features)[:, 1])\n",
        "log_roc_auc_logit = roc_auc_score(y_test, prediction_on_test)\n",
        "fpr2, tpr2, threshold2 = roc_curve(y_test, model.predict_proba(x_test_features)[:, 1])\n",
        "log_roc_auc_randomf = roc_auc_score(y_test, predict_on_test)\n",
        "fpr3, tpr3, threshold3 = roc_curve(y_test,Random_forest.predict_proba(x_test_features)[:, 1])"
      ],
      "metadata": {
        "id": "RGj6poNXfZKL"
      },
      "execution_count": 25,
      "outputs": []
    },
    {
      "cell_type": "code",
      "source": [
        "plt.figure(figsize = (10, 10))\n",
        "plt.plot(fpr, tpr, label = \"Naive Bayes (area = %0.2f)\" %log_roc_auc_naive)\n",
        "plt.plot(fpr2, tpr2, label = \"Logistic Regression (area = %0.2f)\" %log_roc_auc_logit)\n",
        "plt.plot(fpr3, tpr3, label = \"Random Forest (area = %0.2f)\" %log_roc_auc_randomf)\n",
        "plt.plot([0,1], [0,1], 'r--')\n",
        "plt.xlim([-0.05, 1.05])\n",
        "plt.ylim([-0.05, 1.05])\n",
        "plt.title('Receiver_Operating_Characteristics')\n",
        "plt.legend(loc = \"lower right\")\n",
        "plt.savefig('Log_ROC')\n",
        "plt.xlabel('False Positive Rate')\n",
        "plt.ylabel('True Positive Rate')\n",
        "plt.savefig('Log_ROC')\n",
        "plt.show()"
      ],
      "metadata": {
        "id": "3Pnb2SoMgeeb",
        "colab": {
          "base_uri": "https://localhost:8080/",
          "height": 872
        },
        "outputId": "e50f46ae-714b-4da2-c340-87fa95076984"
      },
      "execution_count": 26,
      "outputs": [
        {
          "output_type": "display_data",
          "data": {
            "text/plain": [
              "<Figure size 1000x1000 with 1 Axes>"
            ],
            "image/png": "[encoded data removed]"
          },
          "metadata": {}
        }
      ]
    }
  ]
}